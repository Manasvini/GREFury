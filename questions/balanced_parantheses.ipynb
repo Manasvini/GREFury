{
 "metadata": {
  "name": "",
  "signature": "sha256:c810dbb6de5d1e13ad73bbabd298f1c2236eea6530bd45f4e1010de38659b9c4"
 },
 "nbformat": 3,
 "nbformat_minor": 0,
 "worksheets": [
  {
   "cells": [
    {
     "cell_type": "code",
     "collapsed": false,
     "input": [
      "def balpar(left, right, string):\n",
      "    \n",
      "    if left == 0 and right == 0:\n",
      "        print string\n",
      "    elif left <= right and left >= 0:\n",
      "        if left > 0:\n",
      "                  \n",
      "            balpar(left - 1, right, string + '(')\n",
      "        if right > 0:\n",
      "           \n",
      "            balpar(left, right - 1, string + ')')\n",
      "    "
     ],
     "language": "python",
     "metadata": {},
     "outputs": [],
     "prompt_number": 43
    },
    {
     "cell_type": "code",
     "collapsed": false,
     "input": [
      "balpar(3,3, '')"
     ],
     "language": "python",
     "metadata": {},
     "outputs": [
      {
       "output_type": "stream",
       "stream": "stdout",
       "text": [
        "((()))\n",
        "(()())\n",
        "(())()\n",
        "()(())\n",
        "()()()\n"
       ]
      }
     ],
     "prompt_number": 44
    },
    {
     "cell_type": "code",
     "collapsed": false,
     "input": [],
     "language": "python",
     "metadata": {},
     "outputs": []
    }
   ],
   "metadata": {}
  }
 ]
}