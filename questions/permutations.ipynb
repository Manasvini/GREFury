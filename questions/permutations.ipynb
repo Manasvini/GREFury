{
 "metadata": {
  "name": "",
  "signature": "sha256:0addeacfb6558a5e418e89e7eec8df7ca01b6aab0d851652c1cb7a3eaed558eb"
 },
 "nbformat": 3,
 "nbformat_minor": 0,
 "worksheets": [
  {
   "cells": [
    {
     "cell_type": "code",
     "collapsed": false,
     "input": [
      "def permute1(string, choose, n):\n",
      "    if len(string) == n:\n",
      "        print ''.join(string)\n",
      "    else:\n",
      "        for j in range(len(choose)):\n",
      "            temp = [] + choose\n",
      "            temp.pop(j)\n",
      "           \n",
      "            permute1(string + list(choose[j]), temp, n)"
     ],
     "language": "python",
     "metadata": {},
     "outputs": [],
     "prompt_number": 23
    },
    {
     "cell_type": "code",
     "collapsed": false,
     "input": [
      "permute1([],['a','b','c'], 3)"
     ],
     "language": "python",
     "metadata": {},
     "outputs": [
      {
       "output_type": "stream",
       "stream": "stdout",
       "text": [
        "abc\n",
        "acb\n",
        "bac\n",
        "bca\n",
        "cab\n",
        "cba\n"
       ]
      }
     ],
     "prompt_number": 24
    },
    {
     "cell_type": "code",
     "collapsed": false,
     "input": [],
     "language": "python",
     "metadata": {},
     "outputs": []
    }
   ],
   "metadata": {}
  }
 ]
}