{
 "metadata": {
  "name": "",
  "signature": "sha256:fb01438b4a499997c2888f9815f34aebec768802ae941526cc578b49d7d96258"
 },
 "nbformat": 3,
 "nbformat_minor": 0,
 "worksheets": [
  {
   "cells": [
    {
     "cell_type": "code",
     "collapsed": false,
     "input": [
      "def uglyNumbers(n):\n",
      "    ugly_list = [1,2,3,4,5]\n",
      "    while len(ugly_list) < n:\n",
      "        ugly_list1 = [2 * ugly_list[i] for i in range(len(ugly_list))]\n",
      "        ugly_list2 = [3 * ugly_list[i] for i in range(len(ugly_list))]\n",
      "        ugly_list3 = [5 * ugly_list[i] for i in range(len(ugly_list))]\n",
      "        ugly_list = list(set(ugly_list + ugly_list1 + ugly_list2 + ugly_list3))\n",
      "    ugly_list.sort()\n",
      "    return ugly_list[n-1]"
     ],
     "language": "python",
     "metadata": {},
     "outputs": [],
     "prompt_number": 11
    },
    {
     "cell_type": "code",
     "collapsed": false,
     "input": [
      "print uglyNumbers(9)"
     ],
     "language": "python",
     "metadata": {},
     "outputs": [
      {
       "output_type": "stream",
       "stream": "stdout",
       "text": [
        "10\n"
       ]
      }
     ],
     "prompt_number": 15
    },
    {
     "cell_type": "code",
     "collapsed": false,
     "input": [],
     "language": "python",
     "metadata": {},
     "outputs": []
    }
   ],
   "metadata": {}
  }
 ]
}