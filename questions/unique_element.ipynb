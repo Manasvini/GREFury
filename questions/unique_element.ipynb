{
 "metadata": {
  "name": "",
  "signature": "sha256:d9a850cc38efbdca5c294931c1a059b0a5a6cdac048d1880200d5d99c8a59434"
 },
 "nbformat": 3,
 "nbformat_minor": 0,
 "worksheets": [
  {
   "cells": [
    {
     "cell_type": "code",
     "collapsed": false,
     "input": [
      "import sys"
     ],
     "language": "python",
     "metadata": {},
     "outputs": [],
     "prompt_number": 1
    },
    {
     "cell_type": "code",
     "collapsed": false,
     "input": [
      "def findUnique(x, n):\n",
      "    max_element_size = sys.getsizeof(max(x))\n",
      "    #print max_element_size\n",
      "   \n",
      "    res = 0\n",
      "    for i in range(max_element_size):\n",
      "        mask = 2 ** i\n",
      "        #print mask\n",
      "        bit_array = [(x[j] & mask) >> i for j in range(len(x))]\n",
      "        #print bit_array\n",
      "        bit = (sum(bit_array)) % 3\n",
      "        res = res + bit * (2 ** i)\n",
      "    return res"
     ],
     "language": "python",
     "metadata": {},
     "outputs": [],
     "prompt_number": 20
    },
    {
     "cell_type": "code",
     "collapsed": false,
     "input": [
      "print findUnique([1,1,1,2,2,2,3,3,3,7],10)"
     ],
     "language": "python",
     "metadata": {},
     "outputs": [
      {
       "output_type": "stream",
       "stream": "stdout",
       "text": [
        "7\n"
       ]
      }
     ],
     "prompt_number": 22
    },
    {
     "cell_type": "code",
     "collapsed": false,
     "input": [],
     "language": "python",
     "metadata": {},
     "outputs": []
    }
   ],
   "metadata": {}
  }
 ]
}