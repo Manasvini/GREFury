{
 "metadata": {
  "name": "",
  "signature": "sha256:e00d51476c5f8aafe1429479c7697800fdf8e0c68ddb0006d82a0dcfa1014bfb"
 },
 "nbformat": 3,
 "nbformat_minor": 0,
 "worksheets": [
  {
   "cells": [
    {
     "cell_type": "code",
     "collapsed": false,
     "input": [
      "def subset_sum(numbers, orig, i, n):\n",
      "    if len(numbers) != 0:\n",
      "        print numbers\n",
      "        #print sum(numbers)\n",
      "    if i < n:\n",
      "        for j in range(i ,n):\n",
      "            subset_sum(numbers + [orig[j]], orig, j + 1, n)"
     ],
     "language": "python",
     "metadata": {},
     "outputs": [],
     "prompt_number": 8
    },
    {
     "cell_type": "code",
     "collapsed": false,
     "input": [
      "subset_sum([],[1,2,3, 4], 0, 4)"
     ],
     "language": "python",
     "metadata": {},
     "outputs": [
      {
       "output_type": "stream",
       "stream": "stdout",
       "text": [
        "[1]\n",
        "[1, 2]\n",
        "[1, 2, 3]\n",
        "[1, 2, 3, 4]\n",
        "[1, 2, 4]\n",
        "[1, 3]\n",
        "[1, 3, 4]\n",
        "[1, 4]\n",
        "[2]\n",
        "[2, 3]\n",
        "[2, 3, 4]\n",
        "[2, 4]\n",
        "[3]\n",
        "[3, 4]\n",
        "[4]\n"
       ]
      }
     ],
     "prompt_number": 9
    },
    {
     "cell_type": "code",
     "collapsed": false,
     "input": [],
     "language": "python",
     "metadata": {},
     "outputs": []
    }
   ],
   "metadata": {}
  }
 ]
}