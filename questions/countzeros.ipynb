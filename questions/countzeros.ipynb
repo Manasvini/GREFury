{
 "metadata": {
  "name": "",
  "signature": "sha256:0d1dbbbedaf34ab0947862b74c33e8afae4543e956c130f3bc64c84507a94e03"
 },
 "nbformat": 3,
 "nbformat_minor": 0,
 "worksheets": [
  {
   "cells": [
    {
     "cell_type": "code",
     "collapsed": false,
     "input": [
      "def countZeros(array, first, last):\n",
      "\n",
      "    if first <= last:\n",
      "        mid = (first + last)/2\n",
      "        if mid + 1 == len(array):\n",
      "            if array[mid] == 0:\n",
      "                return mid + 1\n",
      "        if array[mid] == 0 and  array[mid + 1 ] == 1 :\n",
      "            return mid + 1\n",
      "            \n",
      "        elif array[mid] == 0:\n",
      "            return countZeros(array, mid + 1, last)\n",
      "        else:\n",
      "            return countZeros(array, first, mid - 1)\n",
      "    return 0\n",
      "            "
     ],
     "language": "python",
     "metadata": {},
     "outputs": [],
     "prompt_number": 30
    },
    {
     "cell_type": "code",
     "collapsed": false,
     "input": [
      "countZeros([0,0,0,0, 1], 0, 5)"
     ],
     "language": "python",
     "metadata": {},
     "outputs": [
      {
       "metadata": {},
       "output_type": "pyout",
       "prompt_number": 33,
       "text": [
        "4"
       ]
      }
     ],
     "prompt_number": 33
    },
    {
     "cell_type": "code",
     "collapsed": false,
     "input": [],
     "language": "python",
     "metadata": {},
     "outputs": []
    }
   ],
   "metadata": {}
  }
 ]
}